{
 "cells": [
  {
   "cell_type": "code",
   "execution_count": null,
   "metadata": {},
   "outputs": [],
   "source": []
  },
  {
   "cell_type": "code",
   "execution_count": 58,
   "metadata": {},
   "outputs": [],
   "source": [
    "import dataset_models\n",
    "import imp\n",
    "imp.reload(dataset_models)\n",
    "\n",
    "import pandas as pd\n",
    "from dataset_models import Umi, session, db, Dataset, UmiGeneId, GoTerm, NcbiGene, Segment\n",
    "\n",
    "#sql boilerplate\n",
    "rsq = pd.read_sql_query\n",
    "sq = session.query"
   ]
  },
  {
   "cell_type": "code",
   "execution_count": 12,
   "metadata": {},
   "outputs": [],
   "source": [
    "getDatasetId = lambda x:int(x[:8])"
   ]
  },
  {
   "cell_type": "code",
   "execution_count": 13,
   "metadata": {},
   "outputs": [],
   "source": [
    "dataset = \"29045011805220233\""
   ]
  },
  {
   "cell_type": "code",
   "execution_count": 3,
   "metadata": {},
   "outputs": [],
   "source": [
    "import scipy.stats as stats"
   ]
  },
  {
   "cell_type": "code",
   "execution_count": 4,
   "metadata": {},
   "outputs": [],
   "source": [
    "import os\n",
    "import numpy as np\n"
   ]
  },
  {
   "cell_type": "code",
   "execution_count": 5,
   "metadata": {},
   "outputs": [],
   "source": [
    "nm = dataset"
   ]
  },
  {
   "cell_type": "code",
   "execution_count": 6,
   "metadata": {},
   "outputs": [],
   "source": [
    "import wget"
   ]
  },
  {
   "cell_type": "code",
   "execution_count": 60,
   "metadata": {},
   "outputs": [],
   "source": [
    "import urllib"
   ]
  },
  {
   "cell_type": "code",
   "execution_count": 61,
   "metadata": {},
   "outputs": [],
   "source": [
    "with urllib.request.urlopen(\"http://35.237.243.111:5000/segmentations/29045011805220233/annotations/\") as f:\n",
    "    content = f.read().decode('utf-8')"
   ]
  },
  {
   "cell_type": "code",
   "execution_count": 32,
   "metadata": {},
   "outputs": [],
   "source": [
    "from urllib.request import urlopen"
   ]
  },
  {
   "cell_type": "code",
   "execution_count": 34,
   "metadata": {},
   "outputs": [],
   "source": [
    "import json"
   ]
  },
  {
   "cell_type": "code",
   "execution_count": 63,
   "metadata": {},
   "outputs": [],
   "source": [
    "url =\"http://35.237.243.111:5000/segmentations/29045011805220233/annotations/\"\n",
    "json_url = urlopen(url)\n",
    "data = json.loads(json_url.read())\n"
   ]
  },
  {
   "cell_type": "code",
   "execution_count": 80,
   "metadata": {},
   "outputs": [
    {
     "ename": "SyntaxError",
     "evalue": "'return' outside function (<ipython-input-80-bb90c69a1c50>, line 19)",
     "output_type": "error",
     "traceback": [
      "\u001b[0;36m  File \u001b[0;32m\"<ipython-input-80-bb90c69a1c50>\"\u001b[0;36m, line \u001b[0;32m19\u001b[0m\n\u001b[0;31m    return {\u001b[0m\n\u001b[0m            ^\u001b[0m\n\u001b[0;31mSyntaxError\u001b[0m\u001b[0;31m:\u001b[0m 'return' outside function\n"
     ]
    }
   ],
   "source": [
    "\n",
    "out_folder = os.path.join(f\"/data/tmp/{nm}\")\n",
    "if not os.path.isdir(out_folder):\n",
    "    os.makedirs(out_folder)\n",
    "\n",
    "#produce a small gzip output file having x,y,t for each point\n",
    "umi_ids_path = os.path.join(out_folder,\"umi_ids.json.gz\")\n",
    "\n",
    "import gzip\n",
    "from dataset_models import Umi, session, db, Dataset, GeneGoTerm, UmiGeneId, GoTerm, NcbiGene, Segment\n",
    "rsq = pd.read_sql_query\n",
    "sq = session.query\n",
    "\n",
    "with gzip.open(umi_ids_path,\"w\") as f:\n",
    "    f.write(\n",
    "        bytes(rsq(sq(Umi).filter(Umi.dsid==getDatasetId(nm)).statement,db).to_json(orient=\"columns\"),'utf-8'\n",
    "    ))\n",
    "\n",
    "\n",
    "return {\n",
    "     \"umi_ids\":umi_ids_path\n",
    "}"
   ]
  },
  {
   "cell_type": "code",
   "execution_count": 81,
   "metadata": {},
   "outputs": [],
   "source": [
    "cfpath = os.path.join(out_folder,\"coords.json.gz\")"
   ]
  },
  {
   "cell_type": "code",
   "execution_count": 88,
   "metadata": {},
   "outputs": [],
   "source": [
    "content = gzip.open(afpath).read()"
   ]
  },
  {
   "cell_type": "code",
   "execution_count": 87,
   "metadata": {},
   "outputs": [],
   "source": [
    "afpath = os.path.join(out_folder,\"annotations.json.gz\")\n"
   ]
  },
  {
   "cell_type": "code",
   "execution_count": 89,
   "metadata": {},
   "outputs": [],
   "source": [
    "content2 = gzip.open(umi_ids_path).read()"
   ]
  },
  {
   "cell_type": "code",
   "execution_count": 90,
   "metadata": {},
   "outputs": [
    {
     "data": {
      "text/plain": [
       "b'{\"features\": [[228057, -1, -1, -1, \"N\", 14825], [228056, -1, -1, -1, \"N\", 34009], [13357, -1, -1, -1'"
      ]
     },
     "execution_count": 90,
     "metadata": {},
     "output_type": "execute_result"
    }
   ],
   "source": [
    "content[:100]"
   ]
  },
  {
   "cell_type": "code",
   "execution_count": 77,
   "metadata": {},
   "outputs": [],
   "source": [
    "out = rsq(sq(Umi).filter(Umi.dsid==getDatasetId(nm)).statement,db).to_json(orient=\"values\")"
   ]
  },
  {
   "cell_type": "code",
   "execution_count": 85,
   "metadata": {},
   "outputs": [
    {
     "data": {
      "text/plain": [
       "b'[[1,29045011,0,4.4292977792,1.3590231387,14825,1,-1,\"N\",-1],[2,29045011,1,-4.5781035674,-0.204734992'"
      ]
     },
     "execution_count": 85,
     "metadata": {},
     "output_type": "execute_result"
    }
   ],
   "source": [
    "content2[:100]"
   ]
  },
  {
   "cell_type": "code",
   "execution_count": null,
   "metadata": {},
   "outputs": [],
   "source": [
    "[e[\"eval0\"] for e in data.values()][::100]"
   ]
  },
  {
   "cell_type": "code",
   "execution_count": null,
   "metadata": {},
   "outputs": [],
   "source": [
    "out_folder = os.path.join(\n",
    "    f\"/data/dd-analysis/datasets/{nm}/segmentations/\")\n",
    "if not os.path.isdir(out_folder):\n",
    "    os.makedirs(out_folder)\n",
    "\n",
    "\n",
    "umis= rsq(sq(Umi).filter(Umi.dsid==getDatasetId(nm)).statement,db).rename({\"id\":\"umi_id\"},axis=\"columns\").set_index(\"umi_id\")\n",
    "# initialize segment information\n",
    "\n",
    "segment_umis = rsq( sq(Umi.dsid,Umi.id.label(\"umi_id\"),Umi.x,Umi.y,Segment.id.label(\"seg_id\")).filter(Umi.dsid==getDatasetId(nm)).join(Segment).statement,db)\n",
    "\n",
    "seg_counts = segment_umis.seg_id.value_counts()\n",
    "\n",
    "segs = segment_umis.join(segment_umis.seg_id.value_counts().rename(\"seg_umi_count\"), on = \"seg_id\").loc[lambda x: x.seg_umi_count>1]\n",
    "segs_by_id = segs.set_index(\"seg_id\")\n",
    "\n",
    "print(\"computing eigensystems\")\n",
    "#compute normalized distances to cell centers using eigenvectors of the covariance matrix\n",
    "esys = segs_by_id.groupby(\"seg_id\").apply(lambda g: np.linalg.eig(np.cov(*g[[\"x\",\"y\"]].values.T)))\n",
    "emeans = segs_by_id[[\"x\",\"y\"]].groupby(\"seg_id\").mean()\n",
    "\n",
    "#USEFUL CODE... not used\n",
    "# proj_dist = segs_by_id.reset_index().set_index(\"umi_id\").apply(\n",
    "#     lambda u:(lambda e: (np.dot(u[[\"x\",\"y\"]] - emeans.loc[u.seg_id] ,e[1][:,0])/(e[0][0]**.5))**2 + \\\n",
    "#                         (np.dot(u[[\"x\",\"y\"]] - emeans.loc[u.seg_id] ,e[1][:,1])/(e[0][1]**.5))**2)(esys.loc[u.seg_id]),axis=1)\\\n",
    "#     .rename(\"transformed_dist\")\n",
    "\n",
    "\n",
    "# segs_with_dists = segs_by_id.join(proj_dist.reset_index().set_index(\"umi_id\"),on=\"umi_id\")\n",
    "# segs_with_dists = segs_with_dists.join(umis[[\"total_reads\"]],on=\"umi_id\")\n",
    "s_mean_xs =  segment_umis.groupby(\"seg_id\").x.mean()\n",
    "s_mean_ys =  segment_umis.groupby(\"seg_id\").y.mean()\n",
    "\n"
   ]
  },
  {
   "cell_type": "code",
   "execution_count": 104,
   "metadata": {},
   "outputs": [],
   "source": []
  },
  {
   "cell_type": "code",
   "execution_count": 105,
   "metadata": {},
   "outputs": [
    {
     "data": {
      "image/png": "[encoded data removed]",
      "text/plain": [
       "<Figure size 720x720 with 1 Axes>"
      ]
     },
     "metadata": {
      "needs_background": "light"
     },
     "output_type": "display_data"
    }
   ],
   "source": []
  },
  {
   "cell_type": "code",
   "execution_count": 56,
   "metadata": {},
   "outputs": [],
   "source": [
    "session.rollback()"
   ]
  },
  {
   "cell_type": "code",
   "execution_count": null,
   "metadata": {},
   "outputs": [],
   "source": []
  },
  {
   "cell_type": "code",
   "execution_count": 59,
   "metadata": {},
   "outputs": [
    {
     "name": "stdout",
     "output_type": "stream",
     "text": [
      "-0.8885898457607102\n",
      "0.9582362647812797\n",
      "-0.9866082535188568\n",
      "-0.743605433351248\n",
      "-0.8805762843618099\n",
      "-0.9262642589492738\n",
      "0.7701195757639072\n",
      "0.9705966879793653\n",
      "-0.9995346917334045\n",
      "-0.9442486192072544\n",
      "-0.983590571087987\n"
     ]
    }
   ],
   "source": [
    "dbsegs = sq(Segment).filter(Segment.dsid == getDatasetId(nm)).all()\n",
    "for s in dbsegs[::100]:\n",
    "\n",
    "    s.n_umis = int(seg_counts.loc[int(s.id)])\n",
    "    s.meanx = s_mean_xs.get(s.id)\n",
    "    s.meany = s_mean_ys.get(s.id)\n",
    "\n",
    "\n",
    "    \n",
    "    if ( esys.index.contains(s.id)):\n",
    "        s.evec0x = esys.loc[s.id][1][0][0]\n",
    "        s.evec0y = esys.loc[s.id][1][1][0]\n",
    "        s.evec1x = esys.loc[s.id][1][0][1]\n",
    "        s.evec1y = esys.loc[s.id][1][1][1]\n",
    "        s.eval0 =  esys.loc[s.id][0][0]\n",
    "        s.eval1 =  esys.loc[s.id][0][1]\n",
    "        \n",
    "        print(s.evec0x)\n",
    "\n",
    "    session.add(s)\n",
    "\n",
    "\n",
    "session.commit()"
   ]
  },
  {
   "cell_type": "code",
   "execution_count": 92,
   "metadata": {},
   "outputs": [],
   "source": [
    "winning_path =  os.path.join( f\"/data/dd-analysis/datasets/{nm}/segmentations/\", \"winning_pixels.csv\")\n",
    "winning_segments_df = pd.read_csv(winning_path, index_col=[\"x\",\"y\"])\n",
    "winning_nested = winning_segments_df.reset_index(\"y\").groupby(\"x\").apply(lambda x:  x.set_index(\"y\").to_dict()['segment']).to_dict()\n"
   ]
  },
  {
   "cell_type": "code",
   "execution_count": 99,
   "metadata": {},
   "outputs": [
    {
     "name": "stdout",
     "output_type": "stream",
     "text": [
      "CPU times: user 35.3 s, sys: 196 ms, total: 35.5 s\n",
      "Wall time: 35 s\n"
     ]
    }
   ],
   "source": [
    "%%time\n",
    "\n",
    "passing_path =  os.path.join( f\"/data/dd-analysis/datasets/{nm}/segmentations/\", \"passing_pixels.csv\")\n",
    "passing_segments_df = pd.read_csv(passing_path, index_col=[\"x\",\"y\",\"segment\"])\n",
    "passing_nested = passing_segments_df.iloc[::10].reset_index([\"y\",\"segment\"]).groupby(\"x\").apply(lambda x:  x.groupby(\"y\").apply(lambda g: [int(e) for e in g.segment.unique()])).to_dict()).to_dict()\n"
   ]
  },
  {
   "cell_type": "code",
   "execution_count": 100,
   "metadata": {},
   "outputs": [],
   "source": [
    "out = json.dumps(winning_nested)"
   ]
  },
  {
   "cell_type": "code",
   "execution_count": 101,
   "metadata": {},
   "outputs": [
    {
     "ename": "TypeError",
     "evalue": "Object of type int64 is not JSON serializable",
     "output_type": "error",
     "traceback": [
      "\u001b[0;31m---------------------------------------------------------------------------\u001b[0m",
      "\u001b[0;31mTypeError\u001b[0m                                 Traceback (most recent call last)",
      "\u001b[0;32m<ipython-input-101-4ba2b1c0085e>\u001b[0m in \u001b[0;36m<module>\u001b[0;34m\u001b[0m\n\u001b[0;32m----> 1\u001b[0;31m \u001b[0mout2\u001b[0m \u001b[0;34m=\u001b[0m \u001b[0mjson\u001b[0m\u001b[0;34m.\u001b[0m\u001b[0mdumps\u001b[0m\u001b[0;34m(\u001b[0m\u001b[0mpassing_nested\u001b[0m\u001b[0;34m)\u001b[0m\u001b[0;34m\u001b[0m\u001b[0;34m\u001b[0m\u001b[0m\n\u001b[0m",
      "\u001b[0;32m~/c2/lib/python3.7/json/__init__.py\u001b[0m in \u001b[0;36mdumps\u001b[0;34m(obj, skipkeys, ensure_ascii, check_circular, allow_nan, cls, indent, separators, default, sort_keys, **kw)\u001b[0m\n\u001b[1;32m    229\u001b[0m         \u001b[0mcls\u001b[0m \u001b[0;32mis\u001b[0m \u001b[0;32mNone\u001b[0m \u001b[0;32mand\u001b[0m \u001b[0mindent\u001b[0m \u001b[0;32mis\u001b[0m \u001b[0;32mNone\u001b[0m \u001b[0;32mand\u001b[0m \u001b[0mseparators\u001b[0m \u001b[0;32mis\u001b[0m \u001b[0;32mNone\u001b[0m \u001b[0;32mand\u001b[0m\u001b[0;34m\u001b[0m\u001b[0;34m\u001b[0m\u001b[0m\n\u001b[1;32m    230\u001b[0m         default is None and not sort_keys and not kw):\n\u001b[0;32m--> 231\u001b[0;31m         \u001b[0;32mreturn\u001b[0m \u001b[0m_default_encoder\u001b[0m\u001b[0;34m.\u001b[0m\u001b[0mencode\u001b[0m\u001b[0;34m(\u001b[0m\u001b[0mobj\u001b[0m\u001b[0;34m)\u001b[0m\u001b[0;34m\u001b[0m\u001b[0;34m\u001b[0m\u001b[0m\n\u001b[0m\u001b[1;32m    232\u001b[0m     \u001b[0;32mif\u001b[0m \u001b[0mcls\u001b[0m \u001b[0;32mis\u001b[0m \u001b[0;32mNone\u001b[0m\u001b[0;34m:\u001b[0m\u001b[0;34m\u001b[0m\u001b[0;34m\u001b[0m\u001b[0m\n\u001b[1;32m    233\u001b[0m         \u001b[0mcls\u001b[0m \u001b[0;34m=\u001b[0m \u001b[0mJSONEncoder\u001b[0m\u001b[0;34m\u001b[0m\u001b[0;34m\u001b[0m\u001b[0m\n",
      "\u001b[0;32m~/c2/lib/python3.7/json/encoder.py\u001b[0m in \u001b[0;36mencode\u001b[0;34m(self, o)\u001b[0m\n\u001b[1;32m    197\u001b[0m         \u001b[0;31m# exceptions aren't as detailed.  The list call should be roughly\u001b[0m\u001b[0;34m\u001b[0m\u001b[0;34m\u001b[0m\u001b[0;34m\u001b[0m\u001b[0m\n\u001b[1;32m    198\u001b[0m         \u001b[0;31m# equivalent to the PySequence_Fast that ''.join() would do.\u001b[0m\u001b[0;34m\u001b[0m\u001b[0;34m\u001b[0m\u001b[0;34m\u001b[0m\u001b[0m\n\u001b[0;32m--> 199\u001b[0;31m         \u001b[0mchunks\u001b[0m \u001b[0;34m=\u001b[0m \u001b[0mself\u001b[0m\u001b[0;34m.\u001b[0m\u001b[0miterencode\u001b[0m\u001b[0;34m(\u001b[0m\u001b[0mo\u001b[0m\u001b[0;34m,\u001b[0m \u001b[0m_one_shot\u001b[0m\u001b[0;34m=\u001b[0m\u001b[0;32mTrue\u001b[0m\u001b[0;34m)\u001b[0m\u001b[0;34m\u001b[0m\u001b[0;34m\u001b[0m\u001b[0m\n\u001b[0m\u001b[1;32m    200\u001b[0m         \u001b[0;32mif\u001b[0m \u001b[0;32mnot\u001b[0m \u001b[0misinstance\u001b[0m\u001b[0;34m(\u001b[0m\u001b[0mchunks\u001b[0m\u001b[0;34m,\u001b[0m \u001b[0;34m(\u001b[0m\u001b[0mlist\u001b[0m\u001b[0;34m,\u001b[0m \u001b[0mtuple\u001b[0m\u001b[0;34m)\u001b[0m\u001b[0;34m)\u001b[0m\u001b[0;34m:\u001b[0m\u001b[0;34m\u001b[0m\u001b[0;34m\u001b[0m\u001b[0m\n\u001b[1;32m    201\u001b[0m             \u001b[0mchunks\u001b[0m \u001b[0;34m=\u001b[0m \u001b[0mlist\u001b[0m\u001b[0;34m(\u001b[0m\u001b[0mchunks\u001b[0m\u001b[0;34m)\u001b[0m\u001b[0;34m\u001b[0m\u001b[0;34m\u001b[0m\u001b[0m\n",
      "\u001b[0;32m~/c2/lib/python3.7/json/encoder.py\u001b[0m in \u001b[0;36miterencode\u001b[0;34m(self, o, _one_shot)\u001b[0m\n\u001b[1;32m    255\u001b[0m                 \u001b[0mself\u001b[0m\u001b[0;34m.\u001b[0m\u001b[0mkey_separator\u001b[0m\u001b[0;34m,\u001b[0m \u001b[0mself\u001b[0m\u001b[0;34m.\u001b[0m\u001b[0mitem_separator\u001b[0m\u001b[0;34m,\u001b[0m \u001b[0mself\u001b[0m\u001b[0;34m.\u001b[0m\u001b[0msort_keys\u001b[0m\u001b[0;34m,\u001b[0m\u001b[0;34m\u001b[0m\u001b[0;34m\u001b[0m\u001b[0m\n\u001b[1;32m    256\u001b[0m                 self.skipkeys, _one_shot)\n\u001b[0;32m--> 257\u001b[0;31m         \u001b[0;32mreturn\u001b[0m \u001b[0m_iterencode\u001b[0m\u001b[0;34m(\u001b[0m\u001b[0mo\u001b[0m\u001b[0;34m,\u001b[0m \u001b[0;36m0\u001b[0m\u001b[0;34m)\u001b[0m\u001b[0;34m\u001b[0m\u001b[0;34m\u001b[0m\u001b[0m\n\u001b[0m\u001b[1;32m    258\u001b[0m \u001b[0;34m\u001b[0m\u001b[0m\n\u001b[1;32m    259\u001b[0m def _make_iterencode(markers, _default, _encoder, _indent, _floatstr,\n",
      "\u001b[0;32m~/c2/lib/python3.7/json/encoder.py\u001b[0m in \u001b[0;36mdefault\u001b[0;34m(self, o)\u001b[0m\n\u001b[1;32m    177\u001b[0m \u001b[0;34m\u001b[0m\u001b[0m\n\u001b[1;32m    178\u001b[0m         \"\"\"\n\u001b[0;32m--> 179\u001b[0;31m         raise TypeError(f'Object of type {o.__class__.__name__} '\n\u001b[0m\u001b[1;32m    180\u001b[0m                         f'is not JSON serializable')\n\u001b[1;32m    181\u001b[0m \u001b[0;34m\u001b[0m\u001b[0m\n",
      "\u001b[0;31mTypeError\u001b[0m: Object of type int64 is not JSON serializable"
     ]
    }
   ],
   "source": [
    "out2 = json.dumps(passing_nested)"
   ]
  },
  {
   "cell_type": "code",
   "execution_count": null,
   "metadata": {},
   "outputs": [],
   "source": [
    "wget.(\"http://35.237.243.111:5000/segmentations/29045011805220233/annotations/\")"
   ]
  },
  {
   "cell_type": "code",
   "execution_count": null,
   "metadata": {},
   "outputs": [],
   "source": [
    "getDatasetId =  lambda dsname: int(dsname[:8])\n"
   ]
  },
  {
   "cell_type": "code",
   "execution_count": null,
   "metadata": {},
   "outputs": [],
   "source": [
    "winning_pixels.rename(\"segment\")"
   ]
  },
  {
   "cell_type": "code",
   "execution_count": null,
   "metadata": {},
   "outputs": [],
   "source": [
    "segs = sq(Segment).all()"
   ]
  },
  {
   "cell_type": "code",
   "execution_count": null,
   "metadata": {},
   "outputs": [],
   "source": [
    "segs[0]"
   ]
  },
  {
   "cell_type": "code",
   "execution_count": null,
   "metadata": {},
   "outputs": [],
   "source": []
  },
  {
   "cell_type": "code",
   "execution_count": null,
   "metadata": {},
   "outputs": [],
   "source": [
    "out_folder = os.path.join(\n",
    "    f\"/data/dd-analysis/datasets/{nm}/segmentations/\")\n",
    "if not os.path.isdir(out_folder):\n",
    "    os.makedirs(out_folder)\n",
    "\n",
    "\n",
    "umis= rsq(sq(Umi).filter(Umi.dsid==getDatasetId(nm)).statement,db).rename({\"id\":\"umi_id\"},axis=\"columns\").set_index(\"umi_id\")\n",
    "# initialize segment information\n",
    "\n",
    "segment_umis = rsq( sq(Umi.dsid,Umi.id.label(\"umi_id\"),Umi.x,Umi.y,Segment.id.label(\"seg_id\")).filter(Umi.dsid==getDatasetId(nm)).join(Segment).statement,db)\n",
    "\n",
    "seg_counts = segment_umis.seg_id.value_counts()\n",
    "\n",
    "segs = segment_umis.join(segment_umis.seg_id.value_counts().rename(\"seg_umi_count\"), on = \"seg_id\").loc[lambda x: x.seg_umi_count>1]\n",
    "segs_by_id = segs.set_index(\"seg_id\")\n",
    "\n",
    "print(\"computing eigensystems\")\n",
    "#compute normalized distances to cell centers using eigenvectors of the covariance matrix\n",
    "esys = segs_by_id.groupby(\"seg_id\").apply(lambda g: np.linalg.eig(np.cov(*g[[\"x\",\"y\"]].values.T)))\n",
    "emeans = segs_by_id[[\"x\",\"y\"]].groupby(\"seg_id\").mean()\n",
    "\n",
    "#USEFUL CODE... not used\n",
    "# proj_dist = segs_by_id.reset_index().set_index(\"umi_id\").apply(\n",
    "#     lambda u:(lambda e: (np.dot(u[[\"x\",\"y\"]] - emeans.loc[u.seg_id] ,e[1][:,0])/(e[0][0]**.5))**2 + \\\n",
    "#                         (np.dot(u[[\"x\",\"y\"]] - emeans.loc[u.seg_id] ,e[1][:,1])/(e[0][1]**.5))**2)(esys.loc[u.seg_id]),axis=1)\\\n",
    "#     .rename(\"transformed_dist\")\n",
    "\n",
    "\n",
    "# segs_with_dists = segs_by_id.join(proj_dist.reset_index().set_index(\"umi_id\"),on=\"umi_id\")\n",
    "# segs_with_dists = segs_with_dists.join(umis[[\"total_reads\"]],on=\"umi_id\")\n",
    "s_mean_xs =  segment_umis.groupby(\"seg_id\").x.mean()\n",
    "s_mean_ys =  segment_umis.groupby(\"seg_id\").y.mean()\n",
    "\n",
    "dbsegs = sq(Segment).filter(Segment.dsid == getDatasetId(nm)).all()\n",
    "for s in dbsegs:\n",
    "    session.add(s)\n",
    "\n",
    "    s.n_umis = seg_counts.loc[s.id]\n",
    "    s.meanx = s_mean_xs.get(s.id)\n",
    "    s.meany = s_mean_ys.get(s.id)\n",
    "\n",
    "\n",
    "    if ( esys.index.contains(s.id)):\n",
    "        s.evec0x = esys.loc[s.id][1][0][0]\n",
    "        s.evec0y = esys.loc[s.id][1][1][0]\n",
    "        s.evec1x = esys.loc[s.id][1][0][1]\n",
    "        s.evec1y = esys.loc[s.id][1][1][1]\n",
    "        s.eval0 =  esys.loc[s.id][0][0]\n",
    "        s.eval1 =  esys.loc[s.id][0][1]\n",
    "\n",
    "session.commit()\n",
    "\n",
    "segs_with_dists = segs_by_id.join(umis[[\"total_reads\"]],on=\"umi_id\")\n",
    "\n",
    "combined_series = pd.Series()\n",
    "print(\"computing segment hashes\")\n",
    "i = 0\n",
    "for k, g in segs_with_dists.groupby(level=0):\n",
    "    gsubs = g.loc[g.total_reads>0]\n",
    "    xmin= gsubs.x.mean()- (np.max([gsubs.x.std(),.5]))\n",
    "    xmax= gsubs.x.mean()+ (np.max([gsubs.x.std(),.5]))\n",
    "    ymin= gsubs.y.mean()- (np.max([gsubs.y.std(),.5]))\n",
    "    ymax= gsubs.y.mean()+ (np.max([gsubs.y.std(),.5]))\n",
    "\n",
    "    #X, Y = np.mgrid[xmin:xmax:500j, ymin:ymax:500j]\n",
    "\n",
    "    pts = 2\n",
    "    res = 10**(-1*pts)\n",
    "    #print(res)\n",
    "    X, Y = np.round(np.mgrid[np.round(xmin,pts):np.round(xmax,pts):res, np.round(ymin,pts):np.round(ymax,pts):res],pts)\n",
    "    positions = np.vstack([X.ravel(), Y.ravel()])\n",
    "\n",
    "    values = np.vstack([gsubs.x,gsubs.y])\n",
    "    kernel = stats.gaussian_kde(values,weights=np.log(gsubs.total_reads.astype(float).values))#, bw_method=1,)\n",
    "    Z = np.reshape(kernel.evaluate(positions).T, X.shape)\n",
    "\n",
    "    df = pd.DataFrame(Z)#/ np.sum(Z)\n",
    "    df.columns =pd.Series(Y[0,:]).rename(\"y\")\n",
    "    df.index =pd.Series(X[:,0]).rename(\"x\")\n",
    "\n",
    "    series = pd.DataFrame(df.stack()).assign(g=k).set_index(\"g\",append=True).iloc[:,0]\n",
    "    combined_series = pd.concat([series,combined_series])\n",
    "\n",
    "    i+=1\n",
    "    if i % 10 == 0:\n",
    "        break\n",
    "        print(i)\n",
    "\n",
    "\n",
    "combined_series=combined_series.rename(\"kde_vals\")\n",
    "val_sorted  = combined_series.sort_values(0,ascending=False).sort_index(level=[0,1], sort_remaining=False)\n",
    "\n",
    "print(\"computing pixel segmentations\")\n",
    "#threshold kde distributions to create \"passing\" pixels considered to be hits for each cell segment\n",
    "passing_pixels = val_sorted.groupby(\"g\").apply(lambda x: x.loc[x> 1]).reset_index(level=0,drop=True)\n",
    "\n",
    "#argmax thresholded kde distributions to create bitmasks indicating which cell will have precendence in each pixel\n",
    "best_seg = val_sorted.reset_index(level = \"g\").loc[lambda x: ~x.index.duplicated()].g\n",
    "best_val = val_sorted.reset_index(level = \"g\").loc[lambda x: ~x.index.duplicated()].kde_vals\n",
    "winning_pixels = best_seg.loc[best_val > 1]\n",
    "\n",
    "passing_pixels.index.levels[2].name = \"segment\"\n",
    "winning_pixels.to_frame().to_csv(os.path.join(out_folder,\"winning_pixels.csv\"))\n",
    "passing_pixels.to_frame().to_csv(os.path.join(out_folder,\"passing_pixels.csv\"))\n"
   ]
  },
  {
   "cell_type": "code",
   "execution_count": null,
   "metadata": {},
   "outputs": [],
   "source": [
    "os.path.join(out_folder,\"winning_pixels.csv\")"
   ]
  },
  {
   "cell_type": "code",
   "execution_count": null,
   "metadata": {},
   "outputs": [],
   "source": [
    "type(lists.iloc[0][0])"
   ]
  },
  {
   "cell_type": "code",
   "execution_count": null,
   "metadata": {},
   "outputs": [],
   "source": [
    "\n",
    "print(\"computing nested segmentations\")\n",
    "passing_segments_df_2 = passing_pixels.reset_index(level=2).sort_index(level=[0,1])\n",
    "lists = passing_segments_df_2.groupby([\"x\",\"y\"]).apply(lambda g: [int(e) for e in g.segment.values])\n",
    "nests = lists.to_frame().reset_index(\"x\").groupby(by=\"x\").apply(lambda g:g[0].to_dict()).to_dict()\n",
    "\n"
   ]
  },
  {
   "cell_type": "code",
   "execution_count": null,
   "metadata": {},
   "outputs": [],
   "source": [
    "import json"
   ]
  },
  {
   "cell_type": "code",
   "execution_count": null,
   "metadata": {},
   "outputs": [],
   "source": [
    "with open(os.path.join(out_folder,\"passing_pixels_nested.json\"),\"w\") as fopen:\n",
    "    fopen.write( json.dumps(nests))\n"
   ]
  },
  {
   "cell_type": "code",
   "execution_count": null,
   "metadata": {},
   "outputs": [],
   "source": [
    "nests"
   ]
  },
  {
   "cell_type": "code",
   "execution_count": null,
   "metadata": {},
   "outputs": [],
   "source": []
  },
  {
   "cell_type": "code",
   "execution_count": null,
   "metadata": {},
   "outputs": [],
   "source": [
    "len(passing_segments_df)"
   ]
  },
  {
   "cell_type": "code",
   "execution_count": null,
   "metadata": {},
   "outputs": [],
   "source": [
    "\n",
    "nested = passing_segments_df.iloc[::1000].groupby(\"x\").apply(lambda x:  x.groupby(\"y\").apply(lambda g: list(g.index.get_level_values(2).values)).to_dict()).to_dict()\n"
   ]
  },
  {
   "cell_type": "code",
   "execution_count": null,
   "metadata": {},
   "outputs": [],
   "source": []
  },
  {
   "cell_type": "code",
   "execution_count": null,
   "metadata": {},
   "outputs": [],
   "source": []
  },
  {
   "cell_type": "code",
   "execution_count": null,
   "metadata": {},
   "outputs": [],
   "source": []
  },
  {
   "cell_type": "code",
   "execution_count": null,
   "metadata": {},
   "outputs": [],
   "source": [
    "nests"
   ]
  },
  {
   "cell_type": "code",
   "execution_count": null,
   "metadata": {},
   "outputs": [],
   "source": [
    "for k,g in lists.to_frame().groupby(level=\"x\"):\n",
    "    break"
   ]
  },
  {
   "cell_type": "code",
   "execution_count": null,
   "metadata": {},
   "outputs": [],
   "source": []
  },
  {
   "cell_type": "code",
   "execution_count": null,
   "metadata": {},
   "outputs": [],
   "source": [
    "nm = dataset\n",
    "out_folder = os.path.join(\n",
    "    f\"/data/dd-analysis/datasets/{nm}/segmentations/\")\n",
    "if not os.path.isdir(out_folder):\n",
    "    os.makedirs(out_folder)\n",
    "\n",
    "\n",
    "umis= rsq(sq(Umi).filter(Umi.dsid==getDatasetId(nm)).statement,db).rename({\"id\":\"umi_id\"},axis=\"columns\").set_index(\"umi_id\")\n",
    "# initialize segment information\n",
    "\n",
    "segment_umis = rsq( sq(Umi.dsid,Umi.id.label(\"umi_id\"),Umi.x,Umi.y,Segment.id.label(\"seg_id\")).filter(Umi.dsid==getDatasetId(nm)).join(Segment).statement,db)\n",
    "\n",
    "segs = segment_umis.join(segment_umis.seg_id.value_counts().rename(\"seg_umi_count\"), on = \"seg_id\").loc[lambda x: x.seg_umi_count>1]\n",
    "segs_by_id = segs.set_index(\"seg_id\")\n",
    "\n",
    "#compute normalized distances to cell centers using eigenvectors of the covariance matrix\n",
    "esys = segs_by_id.groupby(\"seg_id\").apply(lambda g: np.linalg.eig(np.cov(*g[[\"x\",\"y\"]].values.T)))\n",
    "emeans = segs_by_id[[\"x\",\"y\"]].groupby(\"seg_id\").mean()\n",
    "\n",
    "\n",
    "# proj_dist = segs_by_id.reset_index().set_index(\"umi_id\").apply(\n",
    "#     lambda u:(lambda e: (np.dot(u[[\"x\",\"y\"]] - emeans.loc[u.seg_id] ,e[1][:,0])/(e[0][0]**.5))**2 + \\\n",
    "#                         (np.dot(u[[\"x\",\"y\"]] - emeans.loc[u.seg_id] ,e[1][:,1])/(e[0][1]**.5))**2)(esys.loc[u.seg_id]),axis=1)\\\n",
    "#     .rename(\"transformed_dist\")\n",
    "\n",
    "\n",
    "# segs_with_dists = segs_by_id.join(proj_dist.reset_index().set_index(\"umi_id\"),on=\"umi_id\")\n",
    "# segs_with_dists = segs_with_dists.join(umis[[\"total_reads\"]],on=\"umi_id\")\n"
   ]
  },
  {
   "cell_type": "code",
   "execution_count": null,
   "metadata": {},
   "outputs": [],
   "source": [
    "segment_umis.groupby(\"seg_id\").get_group(60066).x.mean()"
   ]
  },
  {
   "cell_type": "code",
   "execution_count": null,
   "metadata": {},
   "outputs": [],
   "source": [
    "seg_counts = segment_umis.seg_id.value_counts()\n",
    "\n",
    "s_mean_xs =  segment_umis.groupby(\"seg_id\").x.mean()\n",
    "s_mean_ys =  segment_umis.groupby(\"seg_id\").y.mean()\n",
    "\n",
    "dbsegs = sq(Segment).filter(Segment.dsid == getDatasetId(nm)).all()\n",
    "for s in dbsegs:\n",
    "    #session.add(s)\n",
    "\n",
    "    s.n_umis = seg_counts.loc[s.id]\n",
    "    s.meanx = s_mean_xs.get(s.id)\n",
    "    s.meany = s_mean_ys.get(s.id)\n",
    "\n",
    "\n",
    "    if ( esys.index.contains(s.id)):\n",
    "        s.evec0x = esys.loc[s.id][1][0][0]\n",
    "        s.evec0y = esys.loc[s.id][1][1][0]\n",
    "        s.evec1x = esys.loc[s.id][1][0][1]\n",
    "        s.evec1y = esys.loc[s.id][1][1][1]\n",
    "        s.eval0 =  esys.loc[s.id][0][0]\n",
    "        s.eval1 =  esys.loc[s.id][0][1]\n",
    "\n",
    "    #print(\"HI\")\n",
    "#session.commit()"
   ]
  },
  {
   "cell_type": "code",
   "execution_count": null,
   "metadata": {},
   "outputs": [],
   "source": [
    "session.rollback()"
   ]
  },
  {
   "cell_type": "code",
   "execution_count": null,
   "metadata": {},
   "outputs": [],
   "source": [
    "d = dataset\n",
    "\n",
    "dskey = int(d[:8])\n",
    "print (f\"entering data for dataset {d}\")\n",
    "print(\"deleting if exists\")\n",
    "matches = session.query(Dataset).filter(Dataset.id == dskey).first()\n",
    "print(matches)\n",
    "if matches:\n",
    "    print(matches)\n",
    "    session.query(Dataset).filter(Dataset.id == dskey).delete()\n",
    "    session.commit()"
   ]
  },
  {
   "cell_type": "code",
   "execution_count": null,
   "metadata": {},
   "outputs": [],
   "source": [
    "matches = session.query(Dataset).filter(Dataset.id == dskey).first()\n"
   ]
  },
  {
   "cell_type": "code",
   "execution_count": null,
   "metadata": {},
   "outputs": [],
   "source": [
    "\n",
    "winning_path =  os.path.join( f\"/data/dd-analysis/datasets/{dataset}/segmentations/\", \"winning_pixels.csv\")\n",
    "winning_segments_df = pd.read_csv(winning_path, index_col=[\"x\",\"y\"])\n",
    "#getDatasetId =  lambda dsname: int(dsname[:8])\n",
    "#segments =  sq(Segment).filter(Segment.dsid==getDatasetId(dataset))\n",
    "\n",
    "\n",
    "#testfile1 = os.path.join(\"tmp.json.gz\")\n",
    "#testfile2 = os.path.join(\"tmp.json\")\n",
    "\n",
    "#winning_segments_df.to_json(testfile1)\n",
    "#winning_segments_df.to_json(testfile2)\n",
    "json_content = winning_segments_df.iloc[:10].to_json()\n",
    "\n",
    "#response = make_response(send_file(testfile2))\n",
    "#response.headers['Content-Type'] = 'application/json'\n",
    "#response.headers['Content-Encoding'] = 'gzip'\n",
    "\n",
    "#return json_content #send_file(testfile2)\n",
    "import io\n",
    "\n",
    "df = winning_segments_df.reset_index()\n",
    "out = df.to_dict()\n",
    "#outstream = io.BytesIO(out.tobytes()) # io.BytesIO(a.tobytes())\n",
    "#resp = send_file(outstream, mimetype=\"application/octet-stream\")  #,attachment_filename=\"file.jpg\")\n",
    "\n",
    "#resp.headers[\"buffer-json\"] = json.dumps({\"nx\":5,\"ny\":5,\"incx\":.01,\"incy\":.01})\n",
    "#print(resp)\n",
    "#print(resp.headers)\n",
    "\n",
    "xmax = winning_segments_df.x.max()\n",
    "ymax = winning_segments_df.y.max()\n",
    "xmin = winning_segments_df.x.min()\n",
    "ymin = winning_segments_df.y.min()\n",
    "inc = .01"
   ]
  },
  {
   "cell_type": "code",
   "execution_count": null,
   "metadata": {},
   "outputs": [],
   "source": [
    "nested = winning_segments_df.reset_index(\"y\").groupby(\"x\").apply(lambda x:  x.set_index(\"y\").to_dict()['segment']).to_dict()"
   ]
  },
  {
   "cell_type": "code",
   "execution_count": null,
   "metadata": {},
   "outputs": [],
   "source": [
    "nested.keys()"
   ]
  },
  {
   "cell_type": "code",
   "execution_count": null,
   "metadata": {},
   "outputs": [],
   "source": [
    "import osa\n"
   ]
  },
  {
   "cell_type": "code",
   "execution_count": null,
   "metadata": {},
   "outputs": [],
   "source": [
    "\n",
    "winning_path =  os.path.join( f\"/data/dd-analysis/datasets/{dataset}/segmentations/\", \"winning_pixels.csv\")\n",
    "winning_segments_df = pd.read_csv(winning_path, index_col=[\"x\",\"y\"])\n",
    "getDatasetId =  lambda dsname: int(dsname[:8])\n"
   ]
  },
  {
   "cell_type": "code",
   "execution_count": null,
   "metadata": {},
   "outputs": [],
   "source": [
    "import numpy as np"
   ]
  },
  {
   "cell_type": "code",
   "execution_count": null,
   "metadata": {},
   "outputs": [],
   "source": []
  },
  {
   "cell_type": "code",
   "execution_count": null,
   "metadata": {},
   "outputs": [],
   "source": [
    "import matplotlib.pyplot as plt\n",
    "%matplotlib inline"
   ]
  },
  {
   "cell_type": "code",
   "execution_count": null,
   "metadata": {},
   "outputs": [],
   "source": [
    "a  = np.array([0,1,2])"
   ]
  },
  {
   "cell_type": "code",
   "execution_count": null,
   "metadata": {},
   "outputs": [],
   "source": [
    "import io"
   ]
  },
  {
   "cell_type": "code",
   "execution_count": null,
   "metadata": {},
   "outputs": [],
   "source": [
    "  winning_path =  os.path.join( f\"/data/dd-analysis/datasets/{dataset}/segmentations/\", \"winning_pixels.csv\")\n",
    "  winning_segments_df = pd.read_csv(winning_path, index_col=[\"x\",\"y\"])\n",
    "  #getDatasetId =  lambda dsname: int(dsname[:8])\n",
    "  #segments =  sq(Segment).filter(Segment.dsid==getDatasetId(dataset))\n",
    "\n",
    "\n",
    "  #testfile1 = os.path.join(\"tmp.json.gz\")\n",
    "  #testfile2 = os.path.join(\"tmp.json\")\n",
    "\n",
    "  #winning_segments_df.to_json(testfile1)\n",
    "  #winning_segments_df.to_json(testfile2)\n",
    "  json_content = winning_segments_df.iloc[:10].to_json()\n",
    "\n",
    "  #response = make_response(send_file(testfile2))\n",
    "  #response.headers['Content-Type'] = 'application/json'\n",
    "  #response.headers['Content-Encoding'] = 'gzip'\n",
    "\n",
    "  #return json_content #send_file(testfile2)\n",
    "  import io\n",
    "  out = np.array(winning_segments_df.segment.unstack().fillna(-1).values,dtype =np.float32)"
   ]
  },
  {
   "cell_type": "code",
   "execution_count": null,
   "metadata": {},
   "outputs": [],
   "source": [
    "winning_segments_df.segment.unstack().fillna(-1).values.tobytes()"
   ]
  },
  {
   "cell_type": "code",
   "execution_count": null,
   "metadata": {},
   "outputs": [],
   "source": [
    "out = io.BytesIO(a.tobytes())"
   ]
  },
  {
   "cell_type": "code",
   "execution_count": null,
   "metadata": {},
   "outputs": [],
   "source": [
    "out.read()"
   ]
  },
  {
   "cell_type": "raw",
   "metadata": {},
   "source": []
  },
  {
   "cell_type": "code",
   "execution_count": null,
   "metadata": {},
   "outputs": [],
   "source": []
  },
  {
   "cell_type": "code",
   "execution_count": null,
   "metadata": {},
   "outputs": [],
   "source": [
    "coords_df = pd.read_csv(xumi_basepath, names =[\"id\",\"x\",\"y\"])\n",
    "x_array = np.array(coords_df.x.values,dtype =np.float32)\n",
    "y_array = np.array(coords_df.y.values,dtype =np.float32)\n",
    "z_array = y_array*0+.5\n",
    "\n",
    "OUTDIR_XY =os.path.join( f\"/data/dd-frontend/datasets/{dsname}/buffers/xy/\")\n",
    "if not os.path.isdir(OUTDIR_XY): os.makedirs(OUTDIR_XY)\n",
    "with open(os.path.join(OUTDIR_XY,\"x.buffer\"),\"wb\") as fopen:\n",
    "    fopen.write(x_array.tobytes())"
   ]
  },
  {
   "cell_type": "code",
   "execution_count": null,
   "metadata": {},
   "outputs": [],
   "source": [
    "from sqlalchemy import func"
   ]
  },
  {
   "cell_type": "code",
   "execution_count": null,
   "metadata": {},
   "outputs": [],
   "source": [
    "# example of a joined query which lists UMI counts\n",
    "# for each GO term matching a particular function\n",
    "# stmt = session.query(\n",
    "#    UmiGoTerm.go_id, func.count('*').label('umi_count')\n",
    "# ).group_by(UmiGoTerm.go_id).subquery()\n",
    "\n",
    "# for u, count in session.query(GoTerm, stmt.c.umi_count)\\\n",
    "#             .filter(GoTerm.go_name.ilike(\"%DNA%\"))\\\n",
    "#             .outerjoin(stmt, GoTerm.go_id == stmt.c.go_id)\\\n",
    "#             .order_by(GoTerm.go_id).limit(10):\n",
    "    \n",
    "#    print(u.go_name, count)"
   ]
  },
  {
   "cell_type": "code",
   "execution_count": null,
   "metadata": {},
   "outputs": [],
   "source": []
  },
  {
   "cell_type": "code",
   "execution_count": null,
   "metadata": {},
   "outputs": [],
   "source": [
    "ncbi_searches = [\"dna\", \"ribo\", \"nucle\", \"memb\", \"mitoc\",\"cytop\"]"
   ]
  },
  {
   "cell_type": "code",
   "execution_count": null,
   "metadata": {},
   "outputs": [],
   "source": [
    "\n",
    "\n",
    "# example of a joined query which lists UMI counts\n",
    "# for each GO term matching a particular function\n",
    "#stmt = session.query(\n",
    "#   Umi.id, func.count('*').label('umi_count')\n",
    "#).group_by(Umi.id).subquery()\n",
    "\n",
    "\n",
    "#this counts ttal numbers of matches of a segment to have a given GO term match\n",
    "gene_search_umi_counts = pd.DataFrame([  pd.Series({\"umi_id\":uid,\"seg_id\":s.id,\"term\":searchterm})  \n",
    "                        for searchterm in ncbi_searches \n",
    "                        for s,uid in session.query(Segment,Umi.id).join(Umi).join(UmiGeneId).join(NcbiGene)\\\n",
    "                                .filter(NcbiGene.desc.ilike(f\"%{searchterm}%\")).all() ])\n",
    "\n",
    "\n",
    "\n",
    "go_search_umi_counts = pd.DataFrame([  pd.Series({\"umi_id\":uid,\"seg_id\":s.id,\"term\":searchterm})  \n",
    "                        for searchterm in ncbi_searches \n",
    "                        for s,uid in session.query(Segment,Umi.id).join(Umi).join(UmiGoTerm).join(GoTerm)\\\n",
    "                                .filter(GoTerm.go_name.ilike(f\"%{searchterm}%\")).all() ])\n",
    "\n",
    "\n"
   ]
  },
  {
   "cell_type": "code",
   "execution_count": null,
   "metadata": {},
   "outputs": [],
   "source": [
    "\n",
    "seg_counts = pd.read_sql_query(session.query(Umi.seg, func.count(Umi.seg).label(\"count\")).group_by(Umi.seg)\\\n",
    "        .order_by(desc(func.count(Umi.seg))).statement,db, index_col=\"seg\")\n"
   ]
  },
  {
   "cell_type": "code",
   "execution_count": null,
   "metadata": {},
   "outputs": [],
   "source": [
    "seg_umi_umi_gene_counts = gene_search_umi_counts.groupby([\"seg_id\",\"term\"]).count().unstack()[\"umi_id\"].fillna(0)\n",
    "seg_umi_umi_go_counts = go_search_umi_counts.groupby([\"seg_id\",\"term\"]).count().unstack()[\"umi_id\"].fillna(0)"
   ]
  },
  {
   "cell_type": "code",
   "execution_count": null,
   "metadata": {},
   "outputs": [],
   "source": [
    "umis = rsq(sq(Umi).statement,db,index_col=\"id\")\n",
    "segs = rsq(sq(Segment).statement,db,index_col=\"id\")"
   ]
  },
  {
   "cell_type": "code",
   "execution_count": null,
   "metadata": {},
   "outputs": [],
   "source": [
    "import matplotlib.pyplot as plt\n",
    "import seaborn as sns\n",
    "%matplotlib inline"
   ]
  },
  {
   "cell_type": "code",
   "execution_count": null,
   "metadata": {},
   "outputs": [],
   "source": [
    "plt.scatter(*[c for c in umis.loc[umis.molecule_type==0][[\"x\",\"y\"]].iloc[::100].values.T])"
   ]
  },
  {
   "cell_type": "code",
   "execution_count": null,
   "metadata": {},
   "outputs": [],
   "source": [
    "\n",
    "for dataset in [seg_umi_umi_go_counts,seg_umi_umi_gene_counts]:\n",
    "    f,sub = plt.subplots(1,1)\n",
    "    ax = sub\n",
    "    plt.sca(ax)\n",
    "    \n",
    "    tests = dataset.iloc[:,1:]\n",
    "    tests_norm_1 = tests.apply(lambda x: x / seg_counts[\"count\"]).fillna(0)\n",
    "    ct_gt5 = set(seg_counts.loc[seg_counts[\"count\"] >200].index.values)\n",
    "    ds1_tests = tests_norm_1.loc[tests_norm_1.index.isin(ct_gt5)]\n",
    "    \n",
    "    #ds1_tests2 = ds1_tests.loc[seg_counts.loc[seg_counts[\"count\"] >5].index ]\n",
    "    ds1_tests_dna = ds1_tests.sort_values(\"ribo\")\n",
    "\n",
    "\n",
    "    for c in ds1_tests_dna.columns:\n",
    "        yseries = ds1_tests_dna[c].iloc[::1]\n",
    "        plt.plot( range(len(yseries)), yseries,\"o\")\n",
    "\n",
    "    plt.legend()"
   ]
  },
  {
   "cell_type": "code",
   "execution_count": null,
   "metadata": {},
   "outputs": [],
   "source": [
    "session.commit()"
   ]
  },
  {
   "cell_type": "code",
   "execution_count": null,
   "metadata": {},
   "outputs": [],
   "source": [
    "sq(Segment.id,  func.count('*').label('umi_count')).group_by(Segment.id).limit(10).all()"
   ]
  },
  {
   "cell_type": "code",
   "execution_count": null,
   "metadata": {},
   "outputs": [],
   "source": [
    "stmt = session.query(\n",
    "   Umi.seg, func.count('*').label('umi_count')\n",
    ").group_by(Umi.seg).subquery()\n"
   ]
  },
  {
   "cell_type": "code",
   "execution_count": null,
   "metadata": {},
   "outputs": [],
   "source": [
    "stmt = session.query(\n",
    "   Umi.seg, func.count('*').label('umi_count')\n",
    ").group_by(Umi.seg).subquery()\n",
    "\n",
    "seg31_counts = rsq( session.query(Segment.id.label(\"seg_id\"), stmt.c.umi_count)\\\n",
    "            .filter(Segment.dsid == 31944625)\\\n",
    "            .join(stmt, Segment.id == stmt.c.seg)\\\n",
    "            .order_by(desc(stmt.c.umi_count)).statement,db,index_col=\"seg_id\")"
   ]
  },
  {
   "cell_type": "code",
   "execution_count": null,
   "metadata": {},
   "outputs": [],
   "source": []
  },
  {
   "cell_type": "code",
   "execution_count": null,
   "metadata": {},
   "outputs": [],
   "source": []
  },
  {
   "cell_type": "code",
   "execution_count": null,
   "metadata": {},
   "outputs": [],
   "source": [
    "seg31_withcounts = pd.concat([segs.loc[segs.dsid == 31944625],seg31_counts],axis = 1)\n",
    "selected_segs=seg31_withcounts.loc[(seg31_withcounts.umi_count > 100) & (seg31_withcounts.umi_count <500)].iloc[:100]\n",
    "selected_umis = umis.loc[umis.seg.isin(selected_segs.index)].copy()\n",
    "\n"
   ]
  },
  {
   "cell_type": "code",
   "execution_count": null,
   "metadata": {},
   "outputs": [],
   "source": [
    "\n",
    "for idx, s in selected_segs.iloc[::10].iterrows():\n",
    "    usub = umis.groupby(\"seg\").get_group(idx)    \n",
    "    plt.scatter(usub.x, usub.y)\n",
    "    \n"
   ]
  },
  {
   "cell_type": "code",
   "execution_count": null,
   "metadata": {},
   "outputs": [],
   "source": [
    "selected_segs[\"center_x\"] = selected_umis.groupby(\"seg\").x.mean()\n",
    "selected_segs[\"center_y\"] = selected_umis.groupby(\"seg\").y.mean()\n",
    "\n",
    "\n",
    "selected_umis[\"xdist\"] = selected_umis.apply(lambda u: u.x - selected_segs.loc[u.seg].center_x, axis= 1)\n",
    "selected_umis[\"ydist\"] = selected_umis.apply(lambda u: u.y - selected_segs.loc[u.seg].center_y, axis= 1)\n",
    "selected_umis[\"dist\"] = selected_umis.apply(lambda u: (u.ydist**2 +u.xdist**2)**.5, axis= 1)\n",
    "selected_umis[\"thresh_dist\"] = selected_umis.apply(lambda u: np.min([(u.ydist**2 +u.xdist**2)**.5,.25]), axis= 1)\n",
    "\n",
    "\n",
    "full_sel_umis = sq(Umi).filter(Umi.id.in_([int(v) for v in selected_umis.index.values])).all()\n",
    "\n"
   ]
  },
  {
   "cell_type": "code",
   "execution_count": null,
   "metadata": {},
   "outputs": [],
   "source": [
    "sel_ids = [int(v) for v in selected_umis.index.values]"
   ]
  },
  {
   "cell_type": "code",
   "execution_count": null,
   "metadata": {},
   "outputs": [],
   "source": [
    "plt.scatter(selected_umis.x,selected_umis.y,s=5, c= selected_umis.dist*20, cmap=plt.cm.coolwarm)"
   ]
  },
  {
   "cell_type": "code",
   "execution_count": null,
   "metadata": {},
   "outputs": [],
   "source": [
    "full_sel_umis = sq(Umi).filter(Umi.id.in_([int(v) for v in selected_umis.index.values])).all()\n"
   ]
  },
  {
   "cell_type": "code",
   "execution_count": null,
   "metadata": {},
   "outputs": [],
   "source": [
    "for u in full_sel_umis:\n",
    "    for n in ncbi_searches:\n",
    "        selected_umis.at[u.id,n]= len([gt for gt in u.genes if n in gt.desc.lower()])\n",
    "\n"
   ]
  },
  {
   "cell_type": "code",
   "execution_count": null,
   "metadata": {},
   "outputs": [],
   "source": [
    "for n in ncbi_searches:\n",
    "    print(n)\n",
    "    selected_umis[\"gt_\"+n] = 0\n",
    "    outcomes = sq(Umi.id,func.count(\"*\")).filter(Umi.id.in_(sel_ids))\\\n",
    "            .join(UmiGoTerm).join(GoTerm).filter(GoTerm.go_name.ilike(f\"%{n}%\")).group_by(Umi.id).all()\n",
    "        \n",
    "    for o in outcomes: \n",
    "        selected_umis.at[o[0],\"gt_\"+n]=o[1]\n",
    "\n",
    "\n"
   ]
  },
  {
   "cell_type": "code",
   "execution_count": null,
   "metadata": {},
   "outputs": [],
   "source": [
    "plt.style.use('seaborn-deep')"
   ]
  },
  {
   "cell_type": "code",
   "execution_count": null,
   "metadata": {},
   "outputs": [],
   "source": [
    "\n",
    "bins = np.linspace(0,.25,20)\n",
    "for nm in ncbi_searches:\n",
    "    #plt.scatter(selected_umis[\"dist\"], selected_umis[nm])\n",
    "    plt.hist(selected_umis.loc[(selected_umis.thresh_dist<.25) & (selected_umis[nm]> 0 )].thresh_dist,density=True, bins = bins, label = nm,alpha = .5,edgecolor=\"k\")\n",
    "plt.legend()"
   ]
  },
  {
   "cell_type": "code",
   "execution_count": null,
   "metadata": {},
   "outputs": [],
   "source": [
    "\n",
    "bins = np.linspace(0,.25,20)\n",
    "for nm in ncbi_searches:\n",
    "    #plt.scatter(selected_umis[\"dist\"], selected_umis[nm])\n",
    "    plt.hist(selected_umis.loc[ (selected_umis[\"gt_\"+nm]> 0 )].thresh_dist,density=True, bins = bins, label = nm,alpha = .5,edgecolor=\"k\")\n",
    "plt.legend()"
   ]
  }
 ],
 "metadata": {
  "kernelspec": {
   "display_name": "Python 3",
   "language": "python",
   "name": "python3"
  },
  "language_info": {
   "codemirror_mode": {
    "name": "ipython",
    "version": 3
   },
   "file_extension": ".py",
   "mimetype": "text/x-python",
   "name": "python",
   "nbconvert_exporter": "python",
   "pygments_lexer": "ipython3",
   "version": "3.7.3"
  }
 },
 "nbformat": 4,
 "nbformat_minor": 4
}
