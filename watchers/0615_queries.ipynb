{
 "cells": [
  {
   "cell_type": "code",
   "execution_count": 361,
   "metadata": {},
   "outputs": [],
   "source": [
    "import dataset_models\n",
    "import imp\n",
    "imp.reload(dataset_models)\n",
    "\n",
    "import pandas as pd\n",
    "from dataset_models import Umi, session, db, Dataset, UmiGoTerm, UmiGeneId, GoTerm, NcbiGene, Segment\n",
    "\n",
    "rsq = pd.read_sql_query\n",
    "sq = session.query\n",
    "\n",
    "from sqlalchemy import desc, asc, func, distinct\n",
    "import pandas as pd\n",
    "import numpy as np\n",
    "import json"
   ]
  },
  {
   "cell_type": "code",
   "execution_count": 6,
   "metadata": {},
   "outputs": [
    {
     "data": {
      "text/plain": [
       "1"
      ]
     },
     "execution_count": 6,
     "metadata": {},
     "output_type": "execute_result"
    }
   ],
   "source": [
    "gene= sq(NcbiGene).filter(NcbiGene.geneid==381).first()\n",
    "gene.umis"
   ]
  },
  {
   "cell_type": "code",
   "execution_count": 13,
   "metadata": {},
   "outputs": [
    {
     "data": {
      "text/plain": [
       "<Umi id=1, dsid=58382054, idx=0, x=3.5389339583, y=-5.4665393028, seg20=3590, seg=1, molecule_type=-1, sequence='N'>"
      ]
     },
     "execution_count": 13,
     "metadata": {},
     "output_type": "execute_result"
    }
   ],
   "source": [
    "sq(Umi)."
   ]
  },
  {
   "cell_type": "code",
   "execution_count": 8,
   "metadata": {},
   "outputs": [],
   "source": [
    "umi = sq(Umi).first()"
   ]
  },
  {
   "cell_type": "code",
   "execution_count": 12,
   "metadata": {},
   "outputs": [
    {
     "data": {
      "text/plain": [
       "[]"
      ]
     },
     "execution_count": 12,
     "metadata": {},
     "output_type": "execute_result"
    }
   ],
   "source": [
    "sq(NcbiGene).join(UmiGeneId).join(Umi).filter(Umi.id == umi.id).all()"
   ]
  },
  {
   "cell_type": "code",
   "execution_count": 167,
   "metadata": {},
   "outputs": [],
   "source": [
    "session.commit()"
   ]
  },
  {
   "cell_type": "code",
   "execution_count": 168,
   "metadata": {},
   "outputs": [],
   "source": [
    "#TEST QUERY TO GET THE UMI WITH THE MOST GENEIDS\n",
    "subq = session.query(UmiGeneId.umi_id, func.count(UmiGeneId.umi_id).label('count')).group_by(UmiGeneId.umi_id).subquery()\n",
    "result = session.query(Umi, subq.c.count).join(subq, subq.c.umi_id == Umi.id).join(Dataset).filter(Dataset.id==dataset_id).order_by(desc(subq.c.count)).first()\n"
   ]
  },
  {
   "cell_type": "code",
   "execution_count": 39,
   "metadata": {},
   "outputs": [],
   "source": [
    "#TEST QUERY TO GET THE GENEID WITH THE MOST UMIS\n",
    "\n",
    "subq = session.query(UmiGeneId.ncbi_geneid, func.count(UmiGeneId.ncbi_geneid).label('count')).group_by(UmiGeneId.ncbi_geneid).subquery()\n",
    "result = session.query(NcbiGene, subq.c.count).join(subq, subq.c.ncbi_geneid == NcbiGene.geneid).join(UmiGeneId).join(Umi).join(Dataset).filter(Dataset.id==dataset_id).order_by(desc(subq.c.count)).first()\n"
   ]
  },
  {
   "cell_type": "code",
   "execution_count": 40,
   "metadata": {},
   "outputs": [
    {
     "data": {
      "text/plain": [
       "(<NcbiGene geneid=6222, symbol='RPS18', desc='ribosomal protein S18 [Source:HGNC Symbol;Acc:HGNC:10401]'>,\n",
       " 315)"
      ]
     },
     "execution_count": 40,
     "metadata": {},
     "output_type": "execute_result"
    }
   ],
   "source": [
    "result"
   ]
  },
  {
   "cell_type": "code",
   "execution_count": 67,
   "metadata": {},
   "outputs": [
    {
     "data": {
      "text/plain": [
       "58382054"
      ]
     },
     "execution_count": 67,
     "metadata": {},
     "output_type": "execute_result"
    }
   ],
   "source": [
    "datasetId(dataset)"
   ]
  },
  {
   "cell_type": "code",
   "execution_count": 72,
   "metadata": {},
   "outputs": [],
   "source": [
    "datasetId=lambda x: int(x[:8])\n",
    "\n",
    "dataset = \"5838205499823053\"\n",
    "geneid_query = 6222\n",
    "#API QUERY FOR UMIS BY GENEID\n",
    "out1 = list(rsq(sq(Umi.id)\\\n",
    "    .join(UmiGeneId).join(NcbiGene).join(Dataset)\\\n",
    "      .filter(Dataset.id==datasetId(dataset)).filter(NcbiGene.geneid==int(geneid_query)).statement,db)\\\n",
    "        .id.values)\n",
    "\n",
    "dataset = \"5838205499823053\"\n",
    "goterm_query = \"neuro\"\n",
    "#API QUERY FOR UMIS BY GO TERM\n",
    "out2 = list(rsq(sq(Umi.id)\\\n",
    "    .join(UmiGoTerm).join(GoTerm).join(Dataset)\\\n",
    "      .filter(Dataset.id==datasetId(dataset)).filter(GoTerm.go_name.ilike(f\"%{goterm_query}%\")).statement,db)\\\n",
    "        .id.values)\n",
    "  \n",
    "\n",
    "  "
   ]
  },
  {
   "cell_type": "code",
   "execution_count": 153,
   "metadata": {},
   "outputs": [],
   "source": []
  },
  {
   "cell_type": "code",
   "execution_count": 100,
   "metadata": {},
   "outputs": [],
   "source": [
    "out = sq(Segment.id).join(Umi).join(Dataset).first()"
   ]
  },
  {
   "cell_type": "code",
   "execution_count": 99,
   "metadata": {},
   "outputs": [
    {
     "data": {
      "text/plain": [
       "<Segment id=1, dsid=58382054, og_segid=3590>"
      ]
     },
     "execution_count": 99,
     "metadata": {},
     "output_type": "execute_result"
    }
   ],
   "source": []
  },
  {
   "cell_type": "code",
   "execution_count": 124,
   "metadata": {},
   "outputs": [
    {
     "data": {
      "text/plain": [
       "[(381),\n",
       " (2288),\n",
       " (2519),\n",
       " (5898),\n",
       " (55973),\n",
       " (55971),\n",
       " (1856),\n",
       " (79017),\n",
       " (55615),\n",
       " (64847)]"
      ]
     },
     "execution_count": 124,
     "metadata": {},
     "output_type": "execute_result"
    }
   ],
   "source": [
    "sq(NcbiGene.geneid).limit(10).all()"
   ]
  },
  {
   "cell_type": "code",
   "execution_count": 201,
   "metadata": {},
   "outputs": [
    {
     "ename": "SyntaxError",
     "evalue": "invalid syntax (<ipython-input-201-200cbb5f4afd>, line 1)",
     "output_type": "error",
     "traceback": [
      "\u001b[0;36m  File \u001b[0;32m\"<ipython-input-201-200cbb5f4afd>\"\u001b[0;36m, line \u001b[0;32m1\u001b[0m\n\u001b[0;31m    .filter(Segment.dsid==datasetId(dataset))\u001b[0m\n\u001b[0m    ^\u001b[0m\n\u001b[0;31mSyntaxError\u001b[0m\u001b[0;31m:\u001b[0m invalid syntax\n"
     ]
    }
   ],
   "source": [
    "    .filter(Segment.dsid==datasetId(dataset))"
   ]
  },
  {
   "cell_type": "code",
   "execution_count": 208,
   "metadata": {},
   "outputs": [
    {
     "data": {
      "text/plain": [
       "315"
      ]
     },
     "execution_count": 208,
     "metadata": {},
     "output_type": "execute_result"
    }
   ],
   "source": [
    "len(sq(Segment.id).join(Umi).join(UmiGeneId).join(NcbiGene).filter(NcbiGene.geneid==int(geneid_query)).all())"
   ]
  },
  {
   "cell_type": "code",
   "execution_count": 330,
   "metadata": {},
   "outputs": [],
   "source": [
    "session.commit()\n"
   ]
  },
  {
   "cell_type": "code",
   "execution_count": 306,
   "metadata": {},
   "outputs": [
    {
     "data": {
      "text/plain": [
       "[<NcbiGene geneid=6222, symbol='RPS18', desc='ribosomal protein S18 [Source:HGNC Symbol;Acc:HGNC:10401]'>]"
      ]
     },
     "execution_count": 306,
     "metadata": {},
     "output_type": "execute_result"
    }
   ],
   "source": [
    "sq(NcbiGene).filter(NcbiGene.geneid == geneid_query).all()"
   ]
  },
  {
   "cell_type": "code",
   "execution_count": 342,
   "metadata": {},
   "outputs": [
    {
     "data": {
      "text/plain": [
       "[(15048, 5),\n",
       " (15084, 5),\n",
       " (15388, 5),\n",
       " (15395, 5),\n",
       " (15979, 5),\n",
       " (16001, 5),\n",
       " (16341, 5),\n",
       " (16770, 5),\n",
       " (16867, 5),\n",
       " (17722, 5)]"
      ]
     },
     "execution_count": 342,
     "metadata": {},
     "output_type": "execute_result"
    }
   ],
   "source": [
    "sq(Umi.id,func.count(Umi.seg)).join(UmiGeneId).join(NcbiGene).filter(NcbiGene.geneid==6222).group_by(Umi.id).limit(10).all()"
   ]
  },
  {
   "cell_type": "code",
   "execution_count": 346,
   "metadata": {},
   "outputs": [],
   "source": [
    "out = sq(Umi).filter(Umi.id==15048).first()"
   ]
  },
  {
   "cell_type": "code",
   "execution_count": 349,
   "metadata": {},
   "outputs": [
    {
     "data": {
      "text/plain": [
       "[<UmiGeneId id=15809, umi_id=15048, ncbi_geneid=6222, ensembl_geneid='ENSG00000096150'>,\n",
       " <UmiGeneId id=15781, umi_id=15048, ncbi_geneid=6222, ensembl_geneid='ENSG00000231500'>,\n",
       " <UmiGeneId id=15593, umi_id=15048, ncbi_geneid=6222, ensembl_geneid='ENSG00000235650'>,\n",
       " <UmiGeneId id=15483, umi_id=15048, ncbi_geneid=6222, ensembl_geneid='ENSG00000223367'>,\n",
       " <UmiGeneId id=15001, umi_id=15048, ncbi_geneid=6222, ensembl_geneid='ENSG00000226225'>]"
      ]
     },
     "execution_count": 349,
     "metadata": {},
     "output_type": "execute_result"
    }
   ],
   "source": [
    "sq(UmiGeneId).filter(UmiGeneId.umi_id == 15048).all()"
   ]
  },
  {
   "cell_type": "code",
   "execution_count": 350,
   "metadata": {},
   "outputs": [
    {
     "data": {
      "text/plain": [
       "[(1, 5),\n",
       " (3, 55),\n",
       " (7, 5),\n",
       " (24, 10),\n",
       " (27, 5),\n",
       " (40, 5),\n",
       " (54, 5),\n",
       " (55, 5),\n",
       " (57, 5),\n",
       " (63, 5)]"
      ]
     },
     "execution_count": 350,
     "metadata": {},
     "output_type": "execute_result"
    }
   ],
   "source": [
    "sq(Umi.seg,func.count(Umi.seg)).join(UmiGeneId).join(NcbiGene).filter(NcbiGene.geneid==6222).group_by(Umi.id).group_by(Umi.seg).limit(10).all()"
   ]
  },
  {
   "cell_type": "code",
   "execution_count": null,
   "metadata": {},
   "outputs": [],
   "source": [
    "sq(Segment,Umi.id,func.count(Umi.seg).label('count')).join(Umi).join(UmiGeneId).join(NcbiGene).filter(NcbiGene.geneid==int(geneid_query)).group_by(Segment.id,Umi.seg).limit(10).all()"
   ]
  },
  {
   "cell_type": "code",
   "execution_count": null,
   "metadata": {},
   "outputs": [],
   "source": [
    "sq(Segment,Umi.id,func.count(Umi.seg).label('count')).join(Umi).join(UmiGeneId).join(NcbiGene).filter(NcbiGene.geneid==int(geneid_query)).group_by(Segment.id,Umi.seg).limit(10).all()"
   ]
  },
  {
   "cell_type": "code",
   "execution_count": 282,
   "metadata": {},
   "outputs": [
    {
     "data": {
      "text/plain": [
       "[(1, 201),\n",
       " (2, 269),\n",
       " (3, 4988),\n",
       " (4, 1),\n",
       " (5, 66),\n",
       " (6, 60),\n",
       " (7, 235),\n",
       " (8, 578),\n",
       " (9, 67),\n",
       " (10, 1)]"
      ]
     },
     "execution_count": 282,
     "metadata": {},
     "output_type": "execute_result"
    }
   ],
   "source": [
    "sq(Umi.seg,func.count(Umi.seg).label('count')).group_by(Umi.seg).limit(10).all()"
   ]
  },
  {
   "cell_type": "code",
   "execution_count": null,
   "metadata": {},
   "outputs": [],
   "source": [
    "sq(Umi.id,func.count(Umi.seg).label('count')).join(UmiGeneId).join(NcbiGene).filter(NcbiGene.geneid==int(geneid_query)).group_by(Umi.id,Umi.seg).all()"
   ]
  },
  {
   "cell_type": "code",
   "execution_count": null,
   "metadata": {},
   "outputs": [],
   "source": [
    "sq(Segment,Umi.seg,func.count(Umi.seg).label('count')).join(Umi).join(UmiGeneId).join(NcbiGene).filter(NcbiGene.geneid==int(geneid_query)).filter(Umi.seg==109).group_by(Umi.seg).all()"
   ]
  },
  {
   "cell_type": "code",
   "execution_count": 377,
   "metadata": {},
   "outputs": [],
   "source": [
    "\n",
    "\n",
    "dataset = \"5838205499823053\"\n",
    "geneid_query =6222\n",
    "subq = session.query(Umi.seg, func.count(distinct(Umi.id)).label('count')).join(UmiGeneId).join(NcbiGene)\\\n",
    "    .filter(NcbiGene.geneid==int(geneid_query)).group_by(Umi.seg,Umi.id).subquery()\n",
    "\n",
    "out3 = set([e[1] for e in sq(Segment,subq.c.count).join(Umi).join(UmiGeneId).join(NcbiGene)\\\n",
    "    .join(subq, subq.c.seg == Segment.id)\\\n",
    "    .filter(NcbiGene.geneid==int(geneid_query))\\\n",
    "    .all()])\n",
    "\n",
    "\n",
    "\n",
    "\n"
   ]
  },
  {
   "cell_type": "code",
   "execution_count": 378,
   "metadata": {},
   "outputs": [
    {
     "data": {
      "text/plain": [
       "{1}"
      ]
     },
     "execution_count": 378,
     "metadata": {},
     "output_type": "execute_result"
    }
   ],
   "source": []
  },
  {
   "cell_type": "code",
   "execution_count": 393,
   "metadata": {},
   "outputs": [
    {
     "data": {
      "text/plain": [
       "[]"
      ]
     },
     "execution_count": 393,
     "metadata": {},
     "output_type": "execute_result"
    }
   ],
   "source": [
    "session.query(Umi.seg,func.count(distinct(Umi.id)).label('count')).join(UmiGoTerm).join(GoTerm)\\\n",
    "    .filter(GoTerm.go_name.ilike(f\"%{goterm_query}%\")).group_by(Umi.seg).all()"
   ]
  },
  {
   "cell_type": "code",
   "execution_count": 444,
   "metadata": {},
   "outputs": [],
   "source": [
    "\n",
    "dataset = \"5838205499823053\"\n",
    "goterm_query = \"mito\"\n",
    "\n",
    "subq = session.query(Umi.seg,func.count(distinct(Umi.id)).label('count_matched')).join(UmiGoTerm).join(GoTerm)\\\n",
    "    .filter(GoTerm.go_name.ilike(f\"%{goterm_query}%\")).group_by(Umi.seg).subquery()\n",
    "\n",
    "subq2 = session.query(Umi.seg,func.count(distinct(Umi.id)).label('count_all'))\\\n",
    "    .group_by(Umi.seg).subquery()\n",
    "\n",
    "# out4 = sq(distinct(Segment.id),subq.c.count,subq2.c.count).join(Umi).join(UmiGoTerm).join(GoTerm)\\\n",
    "#     .join(subq, subq.c.seg == Segment.id)\\\n",
    "#     .join(subq2, subq2.c.seg == Segment.id)\\\n",
    "#     .filter(GoTerm.go_name.ilike(f\"%{goterm_query}%\"))\\\n",
    "#     .all()\n",
    "\n",
    "out5 = session.query(Umi.seg,func.count(Umi.id)).filter(Umi.seg.in_([e[0] for e in out4])).group_by(Umi.seg).all()\n"
   ]
  },
  {
   "cell_type": "code",
   "execution_count": 446,
   "metadata": {},
   "outputs": [],
   "source": [
    "out6 = rsq( sq(distinct(Segment.id).label(\"segment\"),subq.c.count_matched,subq2.c.count_all).join(Umi).join(UmiGoTerm).join(GoTerm)\\\n",
    "    .join(subq, subq.c.seg == Segment.id)\\\n",
    "    .join(subq2, subq2.c.seg == Segment.id)\\\n",
    "    .filter(GoTerm.go_name.ilike(f\"%{goterm_query}%\"))\\\n",
    "    .statement, db)"
   ]
  },
  {
   "cell_type": "code",
   "execution_count": 454,
   "metadata": {},
   "outputs": [
    {
     "data": {
      "text/html": [
       "<div>\n",
       "<style scoped>\n",
       "    .dataframe tbody tr th:only-of-type {\n",
       "        vertical-align: middle;\n",
       "    }\n",
       "\n",
       "    .dataframe tbody tr th {\n",
       "        vertical-align: top;\n",
       "    }\n",
       "\n",
       "    .dataframe thead th {\n",
       "        text-align: right;\n",
       "    }\n",
       "</style>\n",
       "<table border=\"1\" class=\"dataframe\">\n",
       "  <thead>\n",
       "    <tr style=\"text-align: right;\">\n",
       "      <th></th>\n",
       "      <th>segment</th>\n",
       "      <th>count_matched</th>\n",
       "      <th>count_all</th>\n",
       "    </tr>\n",
       "  </thead>\n",
       "  <tbody>\n",
       "    <tr>\n",
       "      <th>0</th>\n",
       "      <td>7979</td>\n",
       "      <td>1</td>\n",
       "      <td>1</td>\n",
       "    </tr>\n",
       "    <tr>\n",
       "      <th>1</th>\n",
       "      <td>7677</td>\n",
       "      <td>1</td>\n",
       "      <td>1</td>\n",
       "    </tr>\n",
       "    <tr>\n",
       "      <th>2</th>\n",
       "      <td>686</td>\n",
       "      <td>7</td>\n",
       "      <td>64</td>\n",
       "    </tr>\n",
       "    <tr>\n",
       "      <th>3</th>\n",
       "      <td>5000</td>\n",
       "      <td>1</td>\n",
       "      <td>1</td>\n",
       "    </tr>\n",
       "    <tr>\n",
       "      <th>4</th>\n",
       "      <td>311</td>\n",
       "      <td>16</td>\n",
       "      <td>80</td>\n",
       "    </tr>\n",
       "    <tr>\n",
       "      <th>5</th>\n",
       "      <td>5261</td>\n",
       "      <td>1</td>\n",
       "      <td>1</td>\n",
       "    </tr>\n",
       "    <tr>\n",
       "      <th>6</th>\n",
       "      <td>6563</td>\n",
       "      <td>1</td>\n",
       "      <td>1</td>\n",
       "    </tr>\n",
       "    <tr>\n",
       "      <th>7</th>\n",
       "      <td>8684</td>\n",
       "      <td>1</td>\n",
       "      <td>1</td>\n",
       "    </tr>\n",
       "    <tr>\n",
       "      <th>8</th>\n",
       "      <td>3967</td>\n",
       "      <td>1</td>\n",
       "      <td>1</td>\n",
       "    </tr>\n",
       "    <tr>\n",
       "      <th>9</th>\n",
       "      <td>7502</td>\n",
       "      <td>1</td>\n",
       "      <td>1</td>\n",
       "    </tr>\n",
       "    <tr>\n",
       "      <th>10</th>\n",
       "      <td>7106</td>\n",
       "      <td>1</td>\n",
       "      <td>1</td>\n",
       "    </tr>\n",
       "    <tr>\n",
       "      <th>11</th>\n",
       "      <td>100</td>\n",
       "      <td>58</td>\n",
       "      <td>440</td>\n",
       "    </tr>\n",
       "    <tr>\n",
       "      <th>12</th>\n",
       "      <td>5312</td>\n",
       "      <td>1</td>\n",
       "      <td>1</td>\n",
       "    </tr>\n",
       "    <tr>\n",
       "      <th>13</th>\n",
       "      <td>7822</td>\n",
       "      <td>1</td>\n",
       "      <td>1</td>\n",
       "    </tr>\n",
       "    <tr>\n",
       "      <th>14</th>\n",
       "      <td>6509</td>\n",
       "      <td>1</td>\n",
       "      <td>1</td>\n",
       "    </tr>\n",
       "    <tr>\n",
       "      <th>15</th>\n",
       "      <td>5075</td>\n",
       "      <td>1</td>\n",
       "      <td>1</td>\n",
       "    </tr>\n",
       "    <tr>\n",
       "      <th>16</th>\n",
       "      <td>25</td>\n",
       "      <td>8</td>\n",
       "      <td>55</td>\n",
       "    </tr>\n",
       "    <tr>\n",
       "      <th>17</th>\n",
       "      <td>8725</td>\n",
       "      <td>1</td>\n",
       "      <td>1</td>\n",
       "    </tr>\n",
       "    <tr>\n",
       "      <th>18</th>\n",
       "      <td>5395</td>\n",
       "      <td>1</td>\n",
       "      <td>1</td>\n",
       "    </tr>\n",
       "    <tr>\n",
       "      <th>19</th>\n",
       "      <td>5847</td>\n",
       "      <td>1</td>\n",
       "      <td>1</td>\n",
       "    </tr>\n",
       "    <tr>\n",
       "      <th>20</th>\n",
       "      <td>428</td>\n",
       "      <td>7</td>\n",
       "      <td>55</td>\n",
       "    </tr>\n",
       "    <tr>\n",
       "      <th>21</th>\n",
       "      <td>8438</td>\n",
       "      <td>1</td>\n",
       "      <td>1</td>\n",
       "    </tr>\n",
       "    <tr>\n",
       "      <th>22</th>\n",
       "      <td>155</td>\n",
       "      <td>12</td>\n",
       "      <td>77</td>\n",
       "    </tr>\n",
       "    <tr>\n",
       "      <th>23</th>\n",
       "      <td>5980</td>\n",
       "      <td>1</td>\n",
       "      <td>1</td>\n",
       "    </tr>\n",
       "    <tr>\n",
       "      <th>24</th>\n",
       "      <td>6310</td>\n",
       "      <td>1</td>\n",
       "      <td>1</td>\n",
       "    </tr>\n",
       "    <tr>\n",
       "      <th>25</th>\n",
       "      <td>8458</td>\n",
       "      <td>1</td>\n",
       "      <td>1</td>\n",
       "    </tr>\n",
       "    <tr>\n",
       "      <th>26</th>\n",
       "      <td>6663</td>\n",
       "      <td>1</td>\n",
       "      <td>1</td>\n",
       "    </tr>\n",
       "    <tr>\n",
       "      <th>27</th>\n",
       "      <td>7296</td>\n",
       "      <td>1</td>\n",
       "      <td>1</td>\n",
       "    </tr>\n",
       "    <tr>\n",
       "      <th>28</th>\n",
       "      <td>6208</td>\n",
       "      <td>1</td>\n",
       "      <td>1</td>\n",
       "    </tr>\n",
       "    <tr>\n",
       "      <th>29</th>\n",
       "      <td>6422</td>\n",
       "      <td>1</td>\n",
       "      <td>1</td>\n",
       "    </tr>\n",
       "    <tr>\n",
       "      <th>...</th>\n",
       "      <td>...</td>\n",
       "      <td>...</td>\n",
       "      <td>...</td>\n",
       "    </tr>\n",
       "    <tr>\n",
       "      <th>1189</th>\n",
       "      <td>8644</td>\n",
       "      <td>1</td>\n",
       "      <td>1</td>\n",
       "    </tr>\n",
       "    <tr>\n",
       "      <th>1190</th>\n",
       "      <td>8515</td>\n",
       "      <td>1</td>\n",
       "      <td>1</td>\n",
       "    </tr>\n",
       "    <tr>\n",
       "      <th>1191</th>\n",
       "      <td>8646</td>\n",
       "      <td>1</td>\n",
       "      <td>1</td>\n",
       "    </tr>\n",
       "    <tr>\n",
       "      <th>1192</th>\n",
       "      <td>7974</td>\n",
       "      <td>1</td>\n",
       "      <td>1</td>\n",
       "    </tr>\n",
       "    <tr>\n",
       "      <th>1193</th>\n",
       "      <td>8161</td>\n",
       "      <td>1</td>\n",
       "      <td>1</td>\n",
       "    </tr>\n",
       "    <tr>\n",
       "      <th>1194</th>\n",
       "      <td>23</td>\n",
       "      <td>9</td>\n",
       "      <td>100</td>\n",
       "    </tr>\n",
       "    <tr>\n",
       "      <th>1195</th>\n",
       "      <td>105</td>\n",
       "      <td>12</td>\n",
       "      <td>79</td>\n",
       "    </tr>\n",
       "    <tr>\n",
       "      <th>1196</th>\n",
       "      <td>8475</td>\n",
       "      <td>1</td>\n",
       "      <td>1</td>\n",
       "    </tr>\n",
       "    <tr>\n",
       "      <th>1197</th>\n",
       "      <td>7730</td>\n",
       "      <td>1</td>\n",
       "      <td>1</td>\n",
       "    </tr>\n",
       "    <tr>\n",
       "      <th>1198</th>\n",
       "      <td>4233</td>\n",
       "      <td>1</td>\n",
       "      <td>1</td>\n",
       "    </tr>\n",
       "    <tr>\n",
       "      <th>1199</th>\n",
       "      <td>7900</td>\n",
       "      <td>1</td>\n",
       "      <td>1</td>\n",
       "    </tr>\n",
       "    <tr>\n",
       "      <th>1200</th>\n",
       "      <td>7297</td>\n",
       "      <td>1</td>\n",
       "      <td>1</td>\n",
       "    </tr>\n",
       "    <tr>\n",
       "      <th>1201</th>\n",
       "      <td>7063</td>\n",
       "      <td>1</td>\n",
       "      <td>1</td>\n",
       "    </tr>\n",
       "    <tr>\n",
       "      <th>1202</th>\n",
       "      <td>4300</td>\n",
       "      <td>1</td>\n",
       "      <td>1</td>\n",
       "    </tr>\n",
       "    <tr>\n",
       "      <th>1203</th>\n",
       "      <td>8029</td>\n",
       "      <td>1</td>\n",
       "      <td>1</td>\n",
       "    </tr>\n",
       "    <tr>\n",
       "      <th>1204</th>\n",
       "      <td>295</td>\n",
       "      <td>10</td>\n",
       "      <td>89</td>\n",
       "    </tr>\n",
       "    <tr>\n",
       "      <th>1205</th>\n",
       "      <td>7189</td>\n",
       "      <td>1</td>\n",
       "      <td>1</td>\n",
       "    </tr>\n",
       "    <tr>\n",
       "      <th>1206</th>\n",
       "      <td>8377</td>\n",
       "      <td>1</td>\n",
       "      <td>1</td>\n",
       "    </tr>\n",
       "    <tr>\n",
       "      <th>1207</th>\n",
       "      <td>4128</td>\n",
       "      <td>1</td>\n",
       "      <td>1</td>\n",
       "    </tr>\n",
       "    <tr>\n",
       "      <th>1208</th>\n",
       "      <td>60</td>\n",
       "      <td>10</td>\n",
       "      <td>75</td>\n",
       "    </tr>\n",
       "    <tr>\n",
       "      <th>1209</th>\n",
       "      <td>7935</td>\n",
       "      <td>1</td>\n",
       "      <td>1</td>\n",
       "    </tr>\n",
       "    <tr>\n",
       "      <th>1210</th>\n",
       "      <td>5415</td>\n",
       "      <td>1</td>\n",
       "      <td>1</td>\n",
       "    </tr>\n",
       "    <tr>\n",
       "      <th>1211</th>\n",
       "      <td>6031</td>\n",
       "      <td>1</td>\n",
       "      <td>1</td>\n",
       "    </tr>\n",
       "    <tr>\n",
       "      <th>1212</th>\n",
       "      <td>188</td>\n",
       "      <td>10</td>\n",
       "      <td>77</td>\n",
       "    </tr>\n",
       "    <tr>\n",
       "      <th>1213</th>\n",
       "      <td>5414</td>\n",
       "      <td>1</td>\n",
       "      <td>1</td>\n",
       "    </tr>\n",
       "    <tr>\n",
       "      <th>1214</th>\n",
       "      <td>8416</td>\n",
       "      <td>1</td>\n",
       "      <td>1</td>\n",
       "    </tr>\n",
       "    <tr>\n",
       "      <th>1215</th>\n",
       "      <td>3912</td>\n",
       "      <td>1</td>\n",
       "      <td>1</td>\n",
       "    </tr>\n",
       "    <tr>\n",
       "      <th>1216</th>\n",
       "      <td>6412</td>\n",
       "      <td>1</td>\n",
       "      <td>1</td>\n",
       "    </tr>\n",
       "    <tr>\n",
       "      <th>1217</th>\n",
       "      <td>8869</td>\n",
       "      <td>1</td>\n",
       "      <td>1</td>\n",
       "    </tr>\n",
       "    <tr>\n",
       "      <th>1218</th>\n",
       "      <td>7327</td>\n",
       "      <td>1</td>\n",
       "      <td>1</td>\n",
       "    </tr>\n",
       "  </tbody>\n",
       "</table>\n",
       "<p>1219 rows × 3 columns</p>\n",
       "</div>"
      ],
      "text/plain": [
       "      segment  count_matched  count_all\n",
       "0        7979              1          1\n",
       "1        7677              1          1\n",
       "2         686              7         64\n",
       "3        5000              1          1\n",
       "4         311             16         80\n",
       "5        5261              1          1\n",
       "6        6563              1          1\n",
       "7        8684              1          1\n",
       "8        3967              1          1\n",
       "9        7502              1          1\n",
       "10       7106              1          1\n",
       "11        100             58        440\n",
       "12       5312              1          1\n",
       "13       7822              1          1\n",
       "14       6509              1          1\n",
       "15       5075              1          1\n",
       "16         25              8         55\n",
       "17       8725              1          1\n",
       "18       5395              1          1\n",
       "19       5847              1          1\n",
       "20        428              7         55\n",
       "21       8438              1          1\n",
       "22        155             12         77\n",
       "23       5980              1          1\n",
       "24       6310              1          1\n",
       "25       8458              1          1\n",
       "26       6663              1          1\n",
       "27       7296              1          1\n",
       "28       6208              1          1\n",
       "29       6422              1          1\n",
       "...       ...            ...        ...\n",
       "1189     8644              1          1\n",
       "1190     8515              1          1\n",
       "1191     8646              1          1\n",
       "1192     7974              1          1\n",
       "1193     8161              1          1\n",
       "1194       23              9        100\n",
       "1195      105             12         79\n",
       "1196     8475              1          1\n",
       "1197     7730              1          1\n",
       "1198     4233              1          1\n",
       "1199     7900              1          1\n",
       "1200     7297              1          1\n",
       "1201     7063              1          1\n",
       "1202     4300              1          1\n",
       "1203     8029              1          1\n",
       "1204      295             10         89\n",
       "1205     7189              1          1\n",
       "1206     8377              1          1\n",
       "1207     4128              1          1\n",
       "1208       60             10         75\n",
       "1209     7935              1          1\n",
       "1210     5415              1          1\n",
       "1211     6031              1          1\n",
       "1212      188             10         77\n",
       "1213     5414              1          1\n",
       "1214     8416              1          1\n",
       "1215     3912              1          1\n",
       "1216     6412              1          1\n",
       "1217     8869              1          1\n",
       "1218     7327              1          1\n",
       "\n",
       "[1219 rows x 3 columns]"
      ]
     },
     "execution_count": 454,
     "metadata": {},
     "output_type": "execute_result"
    }
   ],
   "source": [
    "out6"
   ]
  },
  {
   "cell_type": "code",
   "execution_count": 451,
   "metadata": {},
   "outputs": [],
   "source": [
    "import matplotlib.pyplot as plt\n",
    "%matplotlib inline"
   ]
  },
  {
   "cell_type": "code",
   "execution_count": 452,
   "metadata": {},
   "outputs": [
    {
     "data": {
      "text/plain": [
       "[<matplotlib.lines.Line2D at 0x7fb1f35effd0>]"
      ]
     },
     "execution_count": 452,
     "metadata": {},
     "output_type": "execute_result"
    },
    {
     "data": {
      "image/png": "[encoded data removed]",
      "text/plain": [
       "<Figure size 432x288 with 1 Axes>"
      ]
     },
     "metadata": {
      "needs_background": "light"
     },
     "output_type": "display_data"
    }
   ],
   "source": [
    "wholecells=out6.loc[out6.count_all >1]\n",
    "plt.plot(wholecells.count_matched / wholecells.count_all)"
   ]
  },
  {
   "cell_type": "code",
   "execution_count": null,
   "metadata": {},
   "outputs": [],
   "source": [
    "sq(Segment.id,subq.c.count).join(Umi).join(UmiGeneId).join(NcbiGene)\\\n",
    "    .filter(Segment.dsid==datasetId(dataset)).filter(NcbiGene.geneid==int(geneid_query))\\\n",
    "    .group_by(Segment.id).all()"
   ]
  },
  {
   "cell_type": "code",
   "execution_count": 187,
   "metadata": {},
   "outputs": [
    {
     "data": {
      "text/plain": [
       "[<NcbiGene geneid=381, symbol='ARF5', desc='ADP ribosylation factor 5 [Source:HGNC Symbol;Acc:HGNC:658]'>,\n",
       " <NcbiGene geneid=2288, symbol='FKBP4', desc='FK506 binding protein 4 [Source:HGNC Symbol;Acc:HGNC:3720]'>,\n",
       " <NcbiGene geneid=2519, symbol='FUCA2', desc='fucosidase, alpha-L- 2, plasma [Source:HGNC Symbol;Acc:HGNC:4008]'>,\n",
       " <NcbiGene geneid=5898, symbol='RALA', desc='RAS like proto-oncogene A [Source:HGNC Symbol;Acc:HGNC:9839]'>,\n",
       " <NcbiGene geneid=55973, symbol='BCAP29', desc='B-cell receptor associated protein 29 [Source:HGNC Symbol;Acc:HGNC:24131]'>,\n",
       " <NcbiGene geneid=55971, symbol='BAIAP2L1', desc='BAI1 associated protein 2 like 1 [Source:HGNC Symbol;Acc:HGNC:21649]'>,\n",
       " <NcbiGene geneid=1856, symbol='DVL2', desc='dishevelled segment polarity protein 2 [Source:HGNC Symbol;Acc:HGNC:3086]'>,\n",
       " <NcbiGene geneid=79017, symbol='GGCT', desc='gamma-glutamylcyclotransferase [Source:HGNC Symbol;Acc:HGNC:21705]'>,\n",
       " <NcbiGene geneid=55615, symbol='PRR5', desc='proline rich 5 [Source:HGNC Symbol;Acc:HGNC:31682]'>,\n",
       " <NcbiGene geneid=64847, symbol='SPATA20', desc='spermatogenesis associated 20 [Source:HGNC Symbol;Acc:HGNC:26125]'>]"
      ]
     },
     "execution_count": 187,
     "metadata": {},
     "output_type": "execute_result"
    }
   ],
   "source": [
    "session.query(NcbiGene).limit(10).all()"
   ]
  },
  {
   "cell_type": "code",
   "execution_count": 188,
   "metadata": {},
   "outputs": [],
   "source": [
    "\n",
    "dataset = \"5838205499823053\"\n",
    "geneid_query = 381\n",
    "#API QUERY FOR UMIS BY GENEID\n",
    "out1 = list(rsq(sq(Segment.id).join(Dataset)\\\n",
    "    .join(Umi).join(UmiGeneId).join(NcbiGene)\\\n",
    "      .filter(Dataset.id==datasetId(dataset)).filter(NcbiGene.geneid==int(geneid_query)).statement,db)\\\n",
    "        .id.values)"
   ]
  }
 ],
 "metadata": {
  "kernelspec": {
   "display_name": "Python 3",
   "language": "python",
   "name": "python3"
  },
  "language_info": {
   "codemirror_mode": {
    "name": "ipython",
    "version": 3
   },
   "file_extension": ".py",
   "mimetype": "text/x-python",
   "name": "python",
   "nbconvert_exporter": "python",
   "pygments_lexer": "ipython3",
   "version": "3.7.2"
  }
 },
 "nbformat": 4,
 "nbformat_minor": 2
}
